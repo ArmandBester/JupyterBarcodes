{
 "cells": [
  {
   "cell_type": "code",
   "execution_count": 66,
   "id": "17751dc8-4a49-4634-8aaa-36dd4b497636",
   "metadata": {},
   "outputs": [],
   "source": [
    "import barcode\n",
    "from barcode.writer import ImageWriter\n",
    "import PIL\n",
    "from PIL import Image\n",
    "#from PIL import ImageFont\n",
    "#from PIL import ImageDraw \n",
    "from fpdf import FPDF"
   ]
  },
  {
   "cell_type": "code",
   "execution_count": 200,
   "id": "b76c97d0-b50e-41d7-a4d4-8e171bca9664",
   "metadata": {
    "tags": []
   },
   "outputs": [],
   "source": [
    "!mkdir tmp\n",
    "def make_bc(code, path):\n",
    "    bc = barcode.get('code128', code, writer=ImageWriter())\n",
    "    filename = bc.save('tmpBC', {\"module_width\":0.15, \"module_height\": 6, \"font_size\": 10, \"text_distance\": 1, \"quiet_zone\": 1})\n",
    "    pilImg = Image.open(\"tmpBC.png\")\n",
    "    rotImg = pilImg.rotate(90, expand = True)\n",
    "    rotImg.save(path)    \n",
    "    \n",
    "pdf = FPDF()\n",
    "#pdf.add_page()\n",
    "\n",
    "xStart = 50\n",
    "yStart = 5\n",
    "\n",
    "xSpace = 65\n",
    "ySpace = 37\n",
    "\n",
    "start = 22\n",
    "stop = 222\n",
    "\n",
    "rows = 8\n",
    "cols = 3\n",
    "\n",
    "i = start\n",
    "while i <= stop:\n",
    "    pdf.add_page()\n",
    "    y = yStart\n",
    "    for r in range(rows):\n",
    "        x = xStart\n",
    "        for c in range(cols):\n",
    "            code = \"DM\" + str(i).zfill(4)            \n",
    "            make_bc(code=code, path=f\"tmp/{i}.png\")\n",
    "            pdf.image(f\"tmp/{i}.png\", x, y, h=30, w=15 )            \n",
    "            i += 1            \n",
    "            ## move horizontal\n",
    "            x += xSpace       \n",
    "        ## move vertical\n",
    "        y += ySpace     \n",
    "            \n",
    "pdf.output(\"barcodes.pdf\", \"F\") \n",
    "\n",
    "!rm -r tmp"
   ]
  },
  {
   "cell_type": "code",
   "execution_count": null,
   "id": "e71e70e8-0aba-40f4-9196-7ee6fd728f5b",
   "metadata": {},
   "outputs": [],
   "source": []
  },
  {
   "cell_type": "code",
   "execution_count": null,
   "id": "bbc431a8-a539-4f1e-b281-b74939cc4bdf",
   "metadata": {},
   "outputs": [],
   "source": []
  },
  {
   "cell_type": "code",
   "execution_count": null,
   "id": "be677c39-98bd-492e-8391-57a3f26f7afd",
   "metadata": {},
   "outputs": [],
   "source": []
  },
  {
   "cell_type": "code",
   "execution_count": null,
   "id": "d025e326-30aa-4e57-98ee-7fecf97905c3",
   "metadata": {},
   "outputs": [],
   "source": []
  }
 ],
 "metadata": {
  "kernelspec": {
   "display_name": "Python 3 (ipykernel)",
   "language": "python",
   "name": "python3"
  },
  "language_info": {
   "codemirror_mode": {
    "name": "ipython",
    "version": 3
   },
   "file_extension": ".py",
   "mimetype": "text/x-python",
   "name": "python",
   "nbconvert_exporter": "python",
   "pygments_lexer": "ipython3",
   "version": "3.10.8"
  }
 },
 "nbformat": 4,
 "nbformat_minor": 5
}
