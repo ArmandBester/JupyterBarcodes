{
 "cells": [
  {
   "cell_type": "markdown",
   "metadata": {},
   "source": [
    "# A notebook to generate barcode stickers using python"
   ]
  },
  {
   "cell_type": "markdown",
   "metadata": {},
   "source": [
    "After trying to use the microsoft word barcode maker and failing, I decided to go the python route"
   ]
  },
  {
   "cell_type": "markdown",
   "metadata": {},
   "source": [
    "---\n",
    "### Import some libraries"
   ]
  },
  {
   "cell_type": "code",
   "execution_count": 1,
   "metadata": {},
   "outputs": [],
   "source": [
    "import qrcode\n",
    "from PIL import Image\n",
    "from PIL import ImageFont\n",
    "from PIL import ImageDraw \n",
    "from fpdf import FPDF"
   ]
  },
  {
   "cell_type": "markdown",
   "metadata": {},
   "source": [
    "---\n",
    "### Create a function which will use qrcode to generate barcodes"
   ]
  },
  {
   "cell_type": "markdown",
   "metadata": {},
   "source": [
    "https://pypi.org/project/qrcode/"
   ]
  },
  {
   "cell_type": "code",
   "execution_count": 2,
   "metadata": {},
   "outputs": [],
   "source": [
    "def make_qr(ID, project=\"OXSAHep\"):\n",
    "    '''\n",
    "    This function takes two arguments.\n",
    "    ID = the subject ID, mandatory\n",
    "    project = The project name, it defaults to OXSAHep if not specified\n",
    "    '''\n",
    "    qr = qrcode.QRCode(version=1,\n",
    "                      error_correction=qrcode.constants.ERROR_CORRECT_L,\n",
    "                      box_size=2,\n",
    "                      border = 20)\n",
    "    qr.add_data(ID)\n",
    "    qr.make(fit=True)\n",
    "    img = qr.make_image(fill_color=\"black\", back_color=\"white\")\n",
    "    draw = ImageDraw.Draw(img)\n",
    "    font = ImageFont.truetype(\"Roboto-Medium.ttf\", 12)\n",
    "    text = project + \"   \" +  ID\n",
    "    draw.text((10,90), text, font=font)\n",
    "    return img\n"
   ]
  },
  {
   "cell_type": "markdown",
   "metadata": {},
   "source": [
    "#### Test the function"
   ]
  },
  {
   "cell_type": "markdown",
   "metadata": {},
   "source": [
    "The qrcode only encodes the sample ID"
   ]
  },
  {
   "cell_type": "code",
   "execution_count": 3,
   "metadata": {},
   "outputs": [
    {
     "data": {
      "image/png": "[encoded data removed]",
      "text/plain": [
       "<qrcode.image.pil.PilImage at 0x7f73901c0340>"
      ]
     },
     "execution_count": 3,
     "metadata": {},
     "output_type": "execute_result"
    }
   ],
   "source": [
    "make_qr(ID=\"1140F01\")"
   ]
  },
  {
   "cell_type": "markdown",
   "metadata": {},
   "source": [
    "### Set the values below to requirements"
   ]
  },
  {
   "cell_type": "code",
   "execution_count": 13,
   "metadata": {},
   "outputs": [
    {
     "name": "stdout",
     "output_type": "stream",
     "text": [
      "range(1212, 1242)\n"
     ]
    }
   ],
   "source": [
    "start = 1212               # from where the stickers should start\n",
    "stop = 1241              # to where the stickers must end\n",
    "\n",
    "nStikkersPerPt = 21        # number of stickers per patient\n",
    "\n",
    "StikkerTypes = ['F', 'V']  # Types of stickers, form or fridge\n",
    "\n",
    "\n",
    "subjectList = range(start, stop+1, 1)\n",
    "stickerList = range(1, nStikkersPerPt + 1, 1)\n",
    "\n",
    "print(subjectList)"
   ]
  },
  {
   "cell_type": "markdown",
   "metadata": {},
   "source": [
    "### Define the page layout in terms of stickers"
   ]
  },
  {
   "cell_type": "code",
   "execution_count": 14,
   "metadata": {},
   "outputs": [
    {
     "name": "stdout",
     "output_type": "stream",
     "text": [
      "This will result in 3.0 patients per page\n"
     ]
    }
   ],
   "source": [
    "H = 7   # number of stikers in each row\n",
    "V = 18  # number of rows\n",
    "\n",
    "print(\"This will result in {} patients per page\".format(H * V / (nStikkersPerPt * len(StikkerTypes))))"
   ]
  },
  {
   "cell_type": "markdown",
   "metadata": {},
   "source": [
    "### Tweek the paramaters and generate pdf of stickers"
   ]
  },
  {
   "cell_type": "code",
   "execution_count": 15,
   "metadata": {},
   "outputs": [],
   "source": [
    "# create a temp directory\n",
    "!mkdir tmp\n",
    "\n",
    "pdf = FPDF()\n",
    "i = 0\n",
    "\n",
    "#controll spacing\n",
    "x = 31             \n",
    "y = 17 \n",
    "\n",
    "#controll size\n",
    "w = 16\n",
    "h = 15.5\n",
    "\n",
    "#control offset to correct for spacing and printer feed\n",
    "xOffset = 1\n",
    "yOffset = -5\n",
    "\n",
    "pdf.add_page()\n",
    "rowCounter = 0\n",
    "columnCounter = 0\n",
    "\n",
    "for pt in subjectList:\n",
    "    for Type in StikkerTypes:                \n",
    "        for i in stickerList:            \n",
    "            label = str(pt) + Type + str(i)\n",
    "            img = make_qr(label)\n",
    "            img.save('tmp/{}.png'.format(label))\n",
    "            pdf.image('tmp/{}.png'.format(label), \n",
    "                      xOffset + x*columnCounter, \n",
    "                      yOffset + y*rowCounter, \n",
    "                      w, h)\n",
    "            \n",
    "            columnCounter += 1\n",
    "            \n",
    "            if columnCounter == H:\n",
    "                columnCounter = 0\n",
    "                rowCounter += 1\n",
    "                \n",
    "            if rowCounter == 18:\n",
    "                rowCounter = 0\n",
    "                pdf.add_page()\n",
    "            \n",
    "pdf.output(\"yourfile.pdf\", \"F\")   \n",
    "\n",
    "# remove the temp directory\n",
    "!rm -r tmp"
   ]
  },
  {
   "cell_type": "markdown",
   "metadata": {},
   "source": [
    "## NB"
   ]
  },
  {
   "cell_type": "markdown",
   "metadata": {},
   "source": [
    "**Review the generated PDF to confirm the correct range of numbers** <br>\n",
    "**Print on plain paper to confirm correctness of one page**"
   ]
  }
 ],
 "metadata": {
  "kernelspec": {
   "display_name": "Python 3",
   "language": "python",
   "name": "python3"
  },
  "language_info": {
   "codemirror_mode": {
    "name": "ipython",
    "version": 3
   },
   "file_extension": ".py",
   "mimetype": "text/x-python",
   "name": "python",
   "nbconvert_exporter": "python",
   "pygments_lexer": "ipython3",
   "version": "3.9.2"
  }
 },
 "nbformat": 4,
 "nbformat_minor": 2
}
